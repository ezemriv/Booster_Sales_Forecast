{
 "cells": [
  {
   "cell_type": "markdown",
   "metadata": {},
   "source": [
    "# BENCHMARK: \n",
    "\n",
    "- Train RMSE: 3_448\n",
    "- Validation RMSE: 3_049"
   ]
  },
  {
   "cell_type": "markdown",
   "metadata": {},
   "source": [
    "# Imports:"
   ]
  },
  {
   "cell_type": "code",
   "execution_count": 361,
   "metadata": {},
   "outputs": [],
   "source": [
    "import math\n",
    "import random\n",
    "from datetime import date\n",
    "import warnings\n",
    "from typing import List, Optional\n",
    "\n",
    "import matplotlib.pyplot as plt\n",
    "import numpy as np\n",
    "import pandas as pd\n",
    "import seaborn as sns\n",
    "from catboost import CatBoostRegressor\n",
    "from functools import partial\n",
    "from lightgbm import LGBMRegressor\n",
    "from matplotlib import pyplot as plt\n",
    "from mlforecast import MLForecast\n",
    "from mlforecast.lag_transforms import ExpandingMean, ExponentiallyWeightedMean, RollingMean\n",
    "from mlforecast.lgb_cv import LightGBMCV\n",
    "from mlforecast.target_transforms import Differences, LocalStandardScaler, GlobalSklearnTransformer\n",
    "from mlforecast.feature_engineering import transform_exog\n",
    "from utilsforecast.feature_engineering import fourier, trend, pipeline\n",
    "\n",
    "from numba import njit\n",
    "from scipy import stats\n",
    "from sklearn.ensemble import RandomForestRegressor, ExtraTreesRegressor\n",
    "from sklearn.impute import KNNImputer\n",
    "from sklearn.metrics import mean_squared_error, r2_score\n",
    "from sklearn.linear_model import LinearRegression\n",
    "from sklearn.preprocessing import MinMaxScaler, RobustScaler, FunctionTransformer\n",
    "from window_ops.rolling import rolling_mean\n",
    "from xgboost import XGBRegressor\n",
    "\n",
    "\n",
    "# Suppress warnings\n",
    "warnings.filterwarnings('ignore')"
   ]
  },
  {
   "cell_type": "markdown",
   "metadata": {},
   "source": [
    "# MLForecast_Evaluator class definition for models evaluation and prediction:"
   ]
  },
  {
   "cell_type": "code",
   "execution_count": 362,
   "metadata": {},
   "outputs": [],
   "source": [
    "class MLForecast_Evaluator:\n",
    "    def __init__(self, fcst, valid, future_df, h=1):\n",
    "        self.fcst = fcst\n",
    "        self.valid = valid\n",
    "        self.future_df = future_df\n",
    "        self.h = h\n",
    "        self.mean_rmse_valid = None # To use for filename (mean rmse of all models)\n",
    "        \n",
    "        # Generate predictions\n",
    "        self.predictions = fcst.predict(h=self.h, X_df=future_df)\n",
    "        \n",
    "        # Merge predictions with valid set\n",
    "        self.results = valid.merge(self.predictions, on=['unique_id', 'ds'])\n",
    "        \n",
    "        # Get fitted values (train predictions)\n",
    "        self.train_preds = fcst.forecast_fitted_values()\n",
    "        \n",
    "        # Identify model columns\n",
    "        self.model_columns = list(fcst.models.keys())\n",
    "        \n",
    "    def plot_time_series(self, n_samples: int = 4, figsize: tuple = None, random_state: Optional[int] = None):\n",
    "        \"\"\"\n",
    "        Plots the time series for a random sample of unique_ids.\n",
    "        \n",
    "        Parameters\n",
    "        ----------\n",
    "        \"\"\"\n",
    "        \n",
    "        # Sample random unique_ids\n",
    "        unique_ids = self.train_preds['unique_id'].unique()\n",
    "        sampled_ids = np.random.choice(unique_ids, size=min(n_samples, len(unique_ids)), replace=False)\n",
    "        \n",
    "        # Calculate grid dimensions\n",
    "        n_cols = math.ceil(math.sqrt(n_samples))\n",
    "        n_rows = math.ceil(n_samples / n_cols)\n",
    "        \n",
    "        # Calculate adaptive figsize if not provided\n",
    "        if figsize is None:\n",
    "            figsize = (7 * n_cols, 4 * n_rows)\n",
    "        \n",
    "        # Create subplots\n",
    "        fig, axs = plt.subplots(n_rows, n_cols, figsize=figsize)\n",
    "        fig.suptitle('Time Series Visualization', fontsize=16)\n",
    "\n",
    "        axs = axs.flatten() if n_samples > 1 else [axs]\n",
    "\n",
    "        # List to store handles and labels for the legend\n",
    "        handles, labels = [], []\n",
    "\n",
    "        for i, unique_id in enumerate(sampled_ids):\n",
    "            train_data = self.train_preds[self.train_preds['unique_id'] == unique_id]\n",
    "            valid_data = self.results[self.results['unique_id'] == unique_id]\n",
    "\n",
    "            # Plot train data\n",
    "            h_train, = axs[i].plot(train_data['ds'], train_data['y'], label='Actual (Train)', color='black')\n",
    "            if 'Actual (Train)' not in labels:\n",
    "                handles.append(h_train)\n",
    "                labels.append('Actual (Train)')\n",
    "\n",
    "            for model in self.model_columns:\n",
    "                h_model_train, = axs[i].plot(train_data['ds'], train_data[model], label=f'{model} (Train)')\n",
    "                if f'{model} (Train)' not in labels:\n",
    "                    handles.append(h_model_train)\n",
    "                    labels.append(f'{model} (Train)')\n",
    "            \n",
    "            # Plot valid data\n",
    "            h_valid, = axs[i].plot(valid_data['ds'], valid_data['y'], label='Actual (Valid)', color='red', linestyle='--')\n",
    "            if 'Actual (Valid)' not in labels:\n",
    "                handles.append(h_valid)\n",
    "                labels.append('Actual (Valid)')\n",
    "\n",
    "            for model in self.model_columns:\n",
    "                h_model_valid = axs[i].scatter(valid_data['ds'], valid_data[model], label=f'{model} (Valid)')\n",
    "                if f'{model} (Valid)' not in labels:\n",
    "                    handles.append(h_model_valid)\n",
    "                    labels.append(f'{model} (Valid)')\n",
    "\n",
    "            axs[i].set_title(f'Time Series - ID: {unique_id}')\n",
    "            axs[i].set_xlabel('Date')\n",
    "            axs[i].set_ylabel('Value')\n",
    "        \n",
    "        # Remove any unused subplots\n",
    "        for j in range(i + 1, len(axs)):\n",
    "            fig.delaxes(axs[j])\n",
    "        \n",
    "        # Add a single legend for all subplots\n",
    "        fig.legend(handles, labels, loc='lower center', bbox_to_anchor=(0.5, 1.05), ncol=len(self.model_columns) + 2, fontsize='small')\n",
    "        plt.tight_layout(rect=[0, 0, 1, 0.95])  # Adjust layout to make room for the legend\n",
    "        plt.show()\n",
    "\n",
    "    def calculate_metrics(self) -> pd.DataFrame:\n",
    "        metrics = {}\n",
    "\n",
    "        for model in self.model_columns:\n",
    "            model_metrics = {}\n",
    "            for result_df, name in zip([self.train_preds, self.results], ['train', 'valid']):\n",
    "                y_true = result_df['y']\n",
    "                y_pred = result_df[model]\n",
    "\n",
    "                model_metrics[f'RMSE_{name}'] = np.sqrt(mean_squared_error(y_true, y_pred))\n",
    "                model_metrics[f'R2_{name}'] = r2_score(y_true, y_pred)\n",
    "\n",
    "            metrics[model] = model_metrics\n",
    "\n",
    "        metrics_df = pd.DataFrame(metrics).T\n",
    "\n",
    "        # Find the model with the lowest validation RMSE\n",
    "        lowest_rmse_model = metrics_df['RMSE_valid'].idxmin()\n",
    "        lowest_rmse_value = metrics_df.loc[lowest_rmse_model, 'RMSE_valid']\n",
    "        \n",
    "        self.mean_rmse_valid = metrics_df['RMSE_valid'].mean()  # Calculate and store mean RMSE for submission\n",
    "\n",
    "        print(f\"MEAN RMSE_VALID = {self.mean_rmse_valid}\\n\")\n",
    "        print(f\"Model with lowest RMSE validation is {lowest_rmse_model} with RMSE = {lowest_rmse_value}\\n\")\n",
    "        print(metrics_df.sort_values(by='RMSE_valid'))\n",
    "\n",
    "        return metrics_df.sort_values(by='RMSE_valid')\n",
    "    \n",
    "    def plot_feature_importances(self):\n",
    "        # Initialize an empty DataFrame to store the feature importances\n",
    "        df = pd.DataFrame()\n",
    "\n",
    "        # Loop through each model to get its feature importances\n",
    "        for model in self.model_columns:\n",
    "            feature_importances = self.fcst.models_[model].feature_importances_\n",
    "            feature_names = self.fcst.ts.features_order_\n",
    "\n",
    "            # Create a temporary DataFrame for the current model\n",
    "            temp_df = pd.DataFrame(feature_importances, columns=[model], index=feature_names)\n",
    "\n",
    "            # Merge the temporary DataFrame with the main DataFrame\n",
    "            if df.empty:\n",
    "                df = temp_df\n",
    "            else:\n",
    "                df = df.join(temp_df, how='outer')\n",
    "\n",
    "        # Fill NaNs with 0 (if any feature is missing in some models)\n",
    "        df = df.fillna(0)\n",
    "        # Scale the feature importances between 0 and 1 for each model\n",
    "        scaler = MinMaxScaler()\n",
    "        df_scaled = pd.DataFrame(scaler.fit_transform(df), columns=df.columns, index=df.index)\n",
    "\n",
    "        # Sort features by their average importance\n",
    "        average_importance = df_scaled.mean(axis=1)\n",
    "        sorted_features = average_importance.sort_values(ascending=True).index[-50:]\n",
    "\n",
    "        # Reorder DataFrame according to the sorted feature list\n",
    "        df_scaled = df_scaled.loc[sorted_features]\n",
    "\n",
    "        # Plotting the horizontal multi-bar plot\n",
    "        fig, ax = plt.subplots(figsize=(10, 15))\n",
    "\n",
    "        # Define the height of the bars and the positions for each group\n",
    "        bar_height = 0.15\n",
    "        index = np.arange(len(sorted_features))\n",
    "\n",
    "        # Loop through each model and plot its feature importances\n",
    "        for i, model in enumerate(self.model_columns):\n",
    "            ax.barh(index + i * bar_height, df_scaled[model], bar_height, label=model)\n",
    "\n",
    "        # Add labels, title, and legend\n",
    "        ax.set_ylabel('Feature')\n",
    "        ax.set_xlabel('Scaled Importance')\n",
    "        ax.set_title('Scaled Feature Importances by Model')\n",
    "        ax.set_yticks(index + bar_height * (len(self.model_columns) - 1) / 2)\n",
    "        ax.set_yticklabels(sorted_features)\n",
    "        ax.legend()\n",
    "\n",
    "        plt.tight_layout()\n",
    "        plt.show()\n",
    "\n",
    "\n",
    "    def plot_metrics(self):\n",
    "        \n",
    "        # Create a figure with two subplots side by side\n",
    "        fig, (ax1, ax2) = plt.subplots(1, 2, figsize=(20, 8))\n",
    "\n",
    "        # Plot 1: Scatter plot of predicted vs actual values\n",
    "        for model in self.model_columns:\n",
    "            # Scatter plot\n",
    "            sns.scatterplot(x=self.results[model], y=self.results['y'], label=model, ax=ax1, alpha=0.7)\n",
    "            \n",
    "            # Fit line\n",
    "            X = self.results[model].values.reshape(-1, 1)\n",
    "            y = self.results['y'].values\n",
    "            reg = LinearRegression().fit(X, y)\n",
    "            ax1.plot(X, reg.predict(X))\n",
    "\n",
    "        # Plot the perfect prediction line\n",
    "        min_val = min(self.results['y'].min(), self.results[self.model_columns].min().min())\n",
    "        max_val = max(self.results['y'].max(), self.results[self.model_columns].max().max())\n",
    "        ax1.plot([min_val, max_val], [min_val, max_val], 'k--', label='Perfect prediction')\n",
    "\n",
    "        ax1.set_xlabel('Predicted Value')\n",
    "        ax1.set_ylabel('Actual Value')\n",
    "        ax1.set_title('Validation Set: Predicted vs Actual')\n",
    "        ax1.legend(title='Model')\n",
    "\n",
    "        # Plot 2: Distribution of Residuals\n",
    "        scaler = RobustScaler()  # RobustScaler is less sensitive to outliers\n",
    "        palette = sns.color_palette(n_colors=len(self.model_columns))\n",
    "        \n",
    "        for i, model in enumerate(self.model_columns):\n",
    "            # Calculate residuals\n",
    "            residuals = self.results['y'] - self.results[model]\n",
    "            \n",
    "            # Remove infinite values and extreme outliers\n",
    "            mask = np.isfinite(residuals) & (np.abs(residuals) < np.percentile(np.abs(residuals), 99))\n",
    "            clean_residuals = residuals[mask]\n",
    "            \n",
    "            if len(clean_residuals) > 0:\n",
    "                # Scale the residuals\n",
    "                residuals_scaled = scaler.fit_transform(clean_residuals.values.reshape(-1, 1)).flatten()\n",
    "                \n",
    "                # Plot KDE with increased bandwidth\n",
    "                #sns.kdeplot(residuals_scaled, label=model, ax=ax2, bw_adjust=1.5, color=palette[i])\n",
    "                sns.histplot(residuals_scaled, bins=30, label=model, kde=False, color=palette[i], alpha=0.5, ax=ax2)\n",
    "                \n",
    "                # Add rug plot\n",
    "                #sns.rugplot(residuals_scaled, ax=ax2, color=palette[i], alpha=0.7)\n",
    "            else:\n",
    "                print(f\"Warning: No valid residuals for model {model}\")\n",
    "\n",
    "        ax2.set_title('Distribution of Scaled Residuals')\n",
    "        ax2.set_xlabel('Scaled Residual')\n",
    "        ax2.set_ylabel('Density')\n",
    "        ax2.legend(title='Model', fontsize=16) #change legend size\n",
    "        \n",
    "        # Set x-axis limits for better visibility\n",
    "        ax2.set_xlim(-5, 5)\n",
    "\n",
    "        plt.tight_layout()\n",
    "        plt.show()\n",
    "\n",
    "\n",
    "    def predict_save_submission(self, model_name, test_index):\n",
    "        \n",
    "        if model_name not in self.model_columns:\n",
    "            raise ValueError(f\"Model '{model_name}' not found. Available models are: {', '.join(self.model_columns)}\")\n",
    "\n",
    "        test_preds = self.predictions[self.predictions['ds'].isin(test_index)] #Test index was defined in split\n",
    "        test_preds = test_preds[['unique_id', model_name]]\n",
    "        \n",
    "        # Rename the model column to 'monthly_sales'\n",
    "        test_preds.rename(columns={model_name: 'monthly_sales'}, inplace=True)\n",
    "\n",
    "        # Get today's date for the filename\n",
    "        today = date.today()\n",
    "\n",
    "        if self.mean_rmse_valid is None:\n",
    "            print(\"Warning: mean_rmse_valid has not been calculated yet. Using 'unknown' in filename.\")\n",
    "            mean_rmse_str = \"unknown\"\n",
    "        else:\n",
    "            mean_rmse_str = f\"{self.mean_rmse_valid:.4f}\"  # Format to 4 decimal places\n",
    "\n",
    "        output_filename = f\"submissions\\submission_{model_name}_mean_valid_RMSE_{mean_rmse_str}_{today}.csv\"\n",
    "        test_preds.to_csv(output_filename, index=False)\n",
    "\n",
    "        print(f\"Submission file '{output_filename}' has been created successfully.\")\n",
    "\n",
    "        return test_preds"
   ]
  },
  {
   "cell_type": "markdown",
   "metadata": {},
   "source": [
    "# Data Load:"
   ]
  },
  {
   "cell_type": "code",
   "execution_count": 363,
   "metadata": {},
   "outputs": [],
   "source": [
    "path = r'.\\data\\ts_kaggle_train.csv'\n",
    "data = pd.read_csv(path, index_col=0, parse_dates=['date'])"
   ]
  },
  {
   "cell_type": "code",
   "execution_count": 364,
   "metadata": {},
   "outputs": [
    {
     "data": {
      "text/html": [
       "<div>\n",
       "<style scoped>\n",
       "    .dataframe tbody tr th:only-of-type {\n",
       "        vertical-align: middle;\n",
       "    }\n",
       "\n",
       "    .dataframe tbody tr th {\n",
       "        vertical-align: top;\n",
       "    }\n",
       "\n",
       "    .dataframe thead th {\n",
       "        text-align: right;\n",
       "    }\n",
       "</style>\n",
       "<table border=\"1\" class=\"dataframe\">\n",
       "  <thead>\n",
       "    <tr style=\"text-align: right;\">\n",
       "      <th></th>\n",
       "      <th>date</th>\n",
       "      <th>unique_id</th>\n",
       "      <th>city_id</th>\n",
       "      <th>shop_id</th>\n",
       "      <th>item_category_id</th>\n",
       "      <th>item_id</th>\n",
       "      <th>monthly_average_price</th>\n",
       "      <th>monthly_sales</th>\n",
       "    </tr>\n",
       "  </thead>\n",
       "  <tbody>\n",
       "    <tr>\n",
       "      <th>0</th>\n",
       "      <td>2013-01-31</td>\n",
       "      <td>12_11365</td>\n",
       "      <td>16</td>\n",
       "      <td>12</td>\n",
       "      <td>9</td>\n",
       "      <td>11365</td>\n",
       "      <td>1511.512626</td>\n",
       "      <td>30.0</td>\n",
       "    </tr>\n",
       "    <tr>\n",
       "      <th>1</th>\n",
       "      <td>2013-01-31</td>\n",
       "      <td>12_11369</td>\n",
       "      <td>16</td>\n",
       "      <td>12</td>\n",
       "      <td>9</td>\n",
       "      <td>11369</td>\n",
       "      <td>572.715278</td>\n",
       "      <td>30.0</td>\n",
       "    </tr>\n",
       "    <tr>\n",
       "      <th>2</th>\n",
       "      <td>2013-01-31</td>\n",
       "      <td>12_11370</td>\n",
       "      <td>16</td>\n",
       "      <td>12</td>\n",
       "      <td>9</td>\n",
       "      <td>11370</td>\n",
       "      <td>699.776786</td>\n",
       "      <td>30.0</td>\n",
       "    </tr>\n",
       "    <tr>\n",
       "      <th>3</th>\n",
       "      <td>2013-01-31</td>\n",
       "      <td>12_11373</td>\n",
       "      <td>16</td>\n",
       "      <td>12</td>\n",
       "      <td>9</td>\n",
       "      <td>11373</td>\n",
       "      <td>548.900000</td>\n",
       "      <td>6.0</td>\n",
       "    </tr>\n",
       "    <tr>\n",
       "      <th>4</th>\n",
       "      <td>2013-01-31</td>\n",
       "      <td>12_12231</td>\n",
       "      <td>16</td>\n",
       "      <td>12</td>\n",
       "      <td>49</td>\n",
       "      <td>12231</td>\n",
       "      <td>350.000000</td>\n",
       "      <td>3.0</td>\n",
       "    </tr>\n",
       "  </tbody>\n",
       "</table>\n",
       "</div>"
      ],
      "text/plain": [
       "        date unique_id  city_id  shop_id  item_category_id  item_id  \\\n",
       "0 2013-01-31  12_11365       16       12                 9    11365   \n",
       "1 2013-01-31  12_11369       16       12                 9    11369   \n",
       "2 2013-01-31  12_11370       16       12                 9    11370   \n",
       "3 2013-01-31  12_11373       16       12                 9    11373   \n",
       "4 2013-01-31  12_12231       16       12                49    12231   \n",
       "\n",
       "   monthly_average_price  monthly_sales  \n",
       "0            1511.512626           30.0  \n",
       "1             572.715278           30.0  \n",
       "2             699.776786           30.0  \n",
       "3             548.900000            6.0  \n",
       "4             350.000000            3.0  "
      ]
     },
     "execution_count": 364,
     "metadata": {},
     "output_type": "execute_result"
    }
   ],
   "source": [
    "data.head()"
   ]
  },
  {
   "cell_type": "code",
   "execution_count": 365,
   "metadata": {},
   "outputs": [
    {
     "data": {
      "text/html": [
       "<div>\n",
       "<style scoped>\n",
       "    .dataframe tbody tr th:only-of-type {\n",
       "        vertical-align: middle;\n",
       "    }\n",
       "\n",
       "    .dataframe tbody tr th {\n",
       "        vertical-align: top;\n",
       "    }\n",
       "\n",
       "    .dataframe thead th {\n",
       "        text-align: right;\n",
       "    }\n",
       "</style>\n",
       "<table border=\"1\" class=\"dataframe\">\n",
       "  <thead>\n",
       "    <tr style=\"text-align: right;\">\n",
       "      <th></th>\n",
       "      <th>date</th>\n",
       "      <th>unique_id</th>\n",
       "      <th>city_id</th>\n",
       "      <th>shop_id</th>\n",
       "      <th>item_category_id</th>\n",
       "      <th>item_id</th>\n",
       "      <th>monthly_average_price</th>\n",
       "      <th>monthly_sales</th>\n",
       "    </tr>\n",
       "  </thead>\n",
       "  <tbody>\n",
       "    <tr>\n",
       "      <th>14479</th>\n",
       "      <td>2015-10-31</td>\n",
       "      <td>7_5822</td>\n",
       "      <td>21</td>\n",
       "      <td>7</td>\n",
       "      <td>35</td>\n",
       "      <td>5822</td>\n",
       "      <td>NaN</td>\n",
       "      <td>NaN</td>\n",
       "    </tr>\n",
       "    <tr>\n",
       "      <th>14480</th>\n",
       "      <td>2015-10-31</td>\n",
       "      <td>7_6185</td>\n",
       "      <td>21</td>\n",
       "      <td>7</td>\n",
       "      <td>30</td>\n",
       "      <td>6185</td>\n",
       "      <td>NaN</td>\n",
       "      <td>NaN</td>\n",
       "    </tr>\n",
       "    <tr>\n",
       "      <th>14481</th>\n",
       "      <td>2015-10-31</td>\n",
       "      <td>7_6497</td>\n",
       "      <td>21</td>\n",
       "      <td>7</td>\n",
       "      <td>28</td>\n",
       "      <td>6497</td>\n",
       "      <td>NaN</td>\n",
       "      <td>NaN</td>\n",
       "    </tr>\n",
       "    <tr>\n",
       "      <th>14482</th>\n",
       "      <td>2015-10-31</td>\n",
       "      <td>7_7856</td>\n",
       "      <td>21</td>\n",
       "      <td>7</td>\n",
       "      <td>28</td>\n",
       "      <td>7856</td>\n",
       "      <td>NaN</td>\n",
       "      <td>NaN</td>\n",
       "    </tr>\n",
       "    <tr>\n",
       "      <th>14483</th>\n",
       "      <td>2015-10-31</td>\n",
       "      <td>7_7893</td>\n",
       "      <td>21</td>\n",
       "      <td>7</td>\n",
       "      <td>6</td>\n",
       "      <td>7893</td>\n",
       "      <td>NaN</td>\n",
       "      <td>NaN</td>\n",
       "    </tr>\n",
       "  </tbody>\n",
       "</table>\n",
       "</div>"
      ],
      "text/plain": [
       "            date unique_id  city_id  shop_id  item_category_id  item_id  \\\n",
       "14479 2015-10-31    7_5822       21        7                35     5822   \n",
       "14480 2015-10-31    7_6185       21        7                30     6185   \n",
       "14481 2015-10-31    7_6497       21        7                28     6497   \n",
       "14482 2015-10-31    7_7856       21        7                28     7856   \n",
       "14483 2015-10-31    7_7893       21        7                 6     7893   \n",
       "\n",
       "       monthly_average_price  monthly_sales  \n",
       "14479                    NaN            NaN  \n",
       "14480                    NaN            NaN  \n",
       "14481                    NaN            NaN  \n",
       "14482                    NaN            NaN  \n",
       "14483                    NaN            NaN  "
      ]
     },
     "execution_count": 365,
     "metadata": {},
     "output_type": "execute_result"
    }
   ],
   "source": [
    "data.tail()"
   ]
  },
  {
   "cell_type": "markdown",
   "metadata": {},
   "source": [
    "### Transform to MLforecast nomenclature and save columns in useful lists:"
   ]
  },
  {
   "cell_type": "code",
   "execution_count": 366,
   "metadata": {},
   "outputs": [],
   "source": [
    "# target = y\n",
    "data.rename(columns={'date': 'ds', 'monthly_sales': 'y'}, inplace=True)"
   ]
  },
  {
   "cell_type": "code",
   "execution_count": 367,
   "metadata": {},
   "outputs": [],
   "source": [
    "core_features = ['ds','unique_id']\n",
    "static_features = ['city_id', 'shop_id', 'item_category_id', 'item_id']"
   ]
  },
  {
   "cell_type": "markdown",
   "metadata": {},
   "source": [
    "# EDA"
   ]
  },
  {
   "cell_type": "code",
   "execution_count": 368,
   "metadata": {},
   "outputs": [
    {
     "data": {
      "text/plain": [
       "426"
      ]
     },
     "execution_count": 368,
     "metadata": {},
     "output_type": "execute_result"
    }
   ],
   "source": [
    "data[\"unique_id\"].nunique() # we have 426 unique_ids = 426 time series"
   ]
  },
  {
   "cell_type": "code",
   "execution_count": 369,
   "metadata": {},
   "outputs": [
    {
     "name": "stdout",
     "output_type": "stream",
     "text": [
      "Min date is 2013-01-31 00:00:00\n",
      "Max date is 2015-10-31 00:00:00\n"
     ]
    }
   ],
   "source": [
    "print(f\"Min date is {data[\"ds\"].min()}\\nMax date is {data[\"ds\"].max()}\")"
   ]
  },
  {
   "cell_type": "code",
   "execution_count": 370,
   "metadata": {},
   "outputs": [],
   "source": [
    "#data.isnull().sum()"
   ]
  },
  {
   "cell_type": "code",
   "execution_count": 371,
   "metadata": {},
   "outputs": [],
   "source": [
    "#data['y'].hist(bins=30);\n",
    "#plt.title(\"Target distribution in data\");"
   ]
  },
  {
   "cell_type": "code",
   "execution_count": 372,
   "metadata": {},
   "outputs": [],
   "source": [
    "#data['ds'].dt.month.hist(bins=12);\n",
    "#plt.title(\"Months distribution in data\");"
   ]
  },
  {
   "cell_type": "code",
   "execution_count": 373,
   "metadata": {},
   "outputs": [
    {
     "data": {
      "text/plain": [
       "'\\nfig = plt.figure(figsize = (12, 10))\\nax1, ax2 = fig.subplots(2, 1)\\n\\nsns.lineplot(data = data, x = \"ds\", y = \"y\", ax=ax1); # Accumulated monthly sales for all unique_ids\\nplt.xticks(rotation=45);\\nax1.set_title(\"Accumulated monthly sales for all unique_ids\");\\n\\nsns.lineplot(data = data, x = \"ds\", y = data[\\'y\\'].diff(), ax=ax2, label=\\'Diff\\');\\nplt.xticks(rotation=45);\\nax2.set_title(\"Differences in monthly sales for all unique_ids\");\\n\\nsns.lineplot(data = data, x = \"ds\", y = data[\\'y\\'].apply(np.log1p).diff(), ax=ax2, label=\\'Log Diff\\');\\nplt.xticks(rotation=45);\\nax2.legend()\\n'"
      ]
     },
     "execution_count": 373,
     "metadata": {},
     "output_type": "execute_result"
    }
   ],
   "source": [
    "\"\"\"\n",
    "fig = plt.figure(figsize = (12, 10))\n",
    "ax1, ax2 = fig.subplots(2, 1)\n",
    "\n",
    "sns.lineplot(data = data, x = \"ds\", y = \"y\", ax=ax1); # Accumulated monthly sales for all unique_ids\n",
    "plt.xticks(rotation=45);\n",
    "ax1.set_title(\"Accumulated monthly sales for all unique_ids\");\n",
    "\n",
    "sns.lineplot(data = data, x = \"ds\", y = data['y'].diff(), ax=ax2, label='Diff');\n",
    "plt.xticks(rotation=45);\n",
    "ax2.set_title(\"Differences in monthly sales for all unique_ids\");\n",
    "\n",
    "sns.lineplot(data = data, x = \"ds\", y = data['y'].apply(np.log1p).diff(), ax=ax2, label='Log Diff');\n",
    "plt.xticks(rotation=45);\n",
    "ax2.legend()\n",
    "\"\"\""
   ]
  },
  {
   "cell_type": "code",
   "execution_count": 374,
   "metadata": {},
   "outputs": [
    {
     "data": {
      "text/plain": [
       "'\\nsample_ids = random.sample(list(data[\"unique_id\"].unique()), 5)\\nsns.lineplot(data = data[data[\\'unique_id\\'].isin(sample_ids)], x = \"ds\", \\n             y = \"y\", hue = \"unique_id\", legend = True);\\nplt.xticks(rotation=45);\\n'"
      ]
     },
     "execution_count": 374,
     "metadata": {},
     "output_type": "execute_result"
    }
   ],
   "source": [
    "# sample 10 unique_ids to plot\n",
    "\"\"\"\n",
    "sample_ids = random.sample(list(data[\"unique_id\"].unique()), 5)\n",
    "sns.lineplot(data = data[data['unique_id'].isin(sample_ids)], x = \"ds\", \n",
    "             y = \"y\", hue = \"unique_id\", legend = True);\n",
    "plt.xticks(rotation=45);\n",
    "\"\"\""
   ]
  },
  {
   "cell_type": "code",
   "execution_count": 375,
   "metadata": {},
   "outputs": [],
   "source": [
    "#data[data['item_id'] == 20949]"
   ]
  },
  {
   "cell_type": "markdown",
   "metadata": {},
   "source": [
    "Iterating with previous plot I observed that item 20949 has a quite constant pattern, which could be detrimental to our models"
   ]
  },
  {
   "cell_type": "code",
   "execution_count": 376,
   "metadata": {},
   "outputs": [
    {
     "data": {
      "text/plain": [
       "'\\nfig = plt.figure(figsize = (10, 10))\\nax1, ax2 = fig.subplots(2, 1)\\n\\ntemp_df = data[data[\\'item_id\\'] == 492]\\n#temp_df = data[data[\\'item_id\\'] == 20949]\\n\\nsns.lineplot(data = temp_df, x = \"ds\", y = \"y\", ax=ax1); # Accumulated monthly sales for item 20949\\nplt.xticks(rotation=45);\\nax1.set_title(\"Accumulated monthly sales for item xx\");\\n\\nsns.lineplot(data = temp_df, x = \"ds\", y = data[\\'y\\'].diff(), ax=ax2, label=\\'Diff\\');\\nplt.xticks(rotation=45);\\nax2.set_title(\"Differences in monthly sales for item xx\");\\n\\nsns.lineplot(data = temp_df, x = \"ds\", y = data[\\'y\\'].apply(np.log1p).diff(), ax=ax2, label=\\'Log Diff\\');\\nplt.xticks(rotation=45);\\nax2.legend()\\n'"
      ]
     },
     "execution_count": 376,
     "metadata": {},
     "output_type": "execute_result"
    }
   ],
   "source": [
    "# Plot item 20949 or 492 sales\n",
    "\"\"\"\n",
    "fig = plt.figure(figsize = (10, 10))\n",
    "ax1, ax2 = fig.subplots(2, 1)\n",
    "\n",
    "temp_df = data[data['item_id'] == 492]\n",
    "#temp_df = data[data['item_id'] == 20949]\n",
    "\n",
    "sns.lineplot(data = temp_df, x = \"ds\", y = \"y\", ax=ax1); # Accumulated monthly sales for item 20949\n",
    "plt.xticks(rotation=45);\n",
    "ax1.set_title(\"Accumulated monthly sales for item xx\");\n",
    "\n",
    "sns.lineplot(data = temp_df, x = \"ds\", y = data['y'].diff(), ax=ax2, label='Diff');\n",
    "plt.xticks(rotation=45);\n",
    "ax2.set_title(\"Differences in monthly sales for item xx\");\n",
    "\n",
    "sns.lineplot(data = temp_df, x = \"ds\", y = data['y'].apply(np.log1p).diff(), ax=ax2, label='Log Diff');\n",
    "plt.xticks(rotation=45);\n",
    "ax2.legend()\n",
    "\"\"\""
   ]
  },
  {
   "cell_type": "markdown",
   "metadata": {},
   "source": [
    "# NaN imputation:\n",
    "\n",
    "- First test:\n",
    "    - Imput target with 0 (NaN means no sales)\n",
    "    - Imput monthly_average_price with fill with previous value (bfill) and next value (ffill)\n",
    "\n",
    "- Second test: KNNimputer"
   ]
  },
  {
   "cell_type": "code",
   "execution_count": 377,
   "metadata": {},
   "outputs": [
    {
     "data": {
      "text/plain": [
       "'pivot_df = data.pivot_table(\\n    index = \"ds\", \\n    columns=\"unique_id\", \\n    values=\"y\").isnull()\\n\\nsns.heatmap(pivot_df)'"
      ]
     },
     "execution_count": 377,
     "metadata": {},
     "output_type": "execute_result"
    }
   ],
   "source": [
    "\"\"\"pivot_df = data.pivot_table(\n",
    "    index = \"ds\", \n",
    "    columns=\"unique_id\", \n",
    "    values=\"y\").isnull()\n",
    "\n",
    "sns.heatmap(pivot_df)\"\"\""
   ]
  },
  {
   "cell_type": "code",
   "execution_count": 378,
   "metadata": {},
   "outputs": [
    {
     "data": {
      "text/plain": [
       "'pivot_df = data.pivot_table(\\n    index = \"ds\", \\n    columns=\"unique_id\", \\n    values=\"monthly_average_price\").isnull()\\n\\nsns.heatmap(pivot_df)'"
      ]
     },
     "execution_count": 378,
     "metadata": {},
     "output_type": "execute_result"
    }
   ],
   "source": [
    "\"\"\"pivot_df = data.pivot_table(\n",
    "    index = \"ds\", \n",
    "    columns=\"unique_id\", \n",
    "    values=\"monthly_average_price\").isnull()\n",
    "\n",
    "sns.heatmap(pivot_df)\"\"\""
   ]
  },
  {
   "cell_type": "markdown",
   "metadata": {},
   "source": [
    "### First test:"
   ]
  },
  {
   "cell_type": "code",
   "execution_count": 379,
   "metadata": {},
   "outputs": [],
   "source": [
    "data.fillna({\"y\":0}, inplace = True)\n",
    "\n",
    "data[\"monthly_average_price\"] = data.groupby(\"unique_id\", group_keys = False)[\"monthly_average_price\"].apply(\n",
    "    lambda series: series.bfill().ffill()\n",
    ")"
   ]
  },
  {
   "cell_type": "markdown",
   "metadata": {},
   "source": [
    "# Feature engineering:\n",
    "\n",
    "Already created month, year, quarter, and christmas_month features"
   ]
  },
  {
   "cell_type": "code",
   "execution_count": 380,
   "metadata": {},
   "outputs": [],
   "source": [
    "#Eze features\n",
    "data['month'] = data['ds'].dt.month\n",
    "data['year'] = data['ds'].dt.year\n",
    "data['quarter'] = data['ds'].dt.quarter\n",
    "data['around_Xmas'] = data['ds'].dt.month.isin([1,12]).astype(int)"
   ]
  },
  {
   "cell_type": "code",
   "execution_count": 381,
   "metadata": {},
   "outputs": [],
   "source": [
    "data['std'] = data.groupby('unique_id')['y'].transform(np.std)\n",
    "data['mean'] = data.groupby('unique_id')['y'].transform(np.mean)"
   ]
  },
  {
   "cell_type": "markdown",
   "metadata": {},
   "source": [
    "### Revenue"
   ]
  },
  {
   "cell_type": "code",
   "execution_count": 382,
   "metadata": {},
   "outputs": [],
   "source": [
    "data[\"revenue\"] = (data[\"y\"] * data[\"monthly_average_price\"])"
   ]
  },
  {
   "cell_type": "code",
   "execution_count": 383,
   "metadata": {},
   "outputs": [],
   "source": [
    "def build_ts_vars(df, gb_list, target_column, agg_func, agg_func_name):\n",
    "    \n",
    "    assert \"ds\" in df.columns.tolist(), \"ds must be in df columns\"\n",
    "    \n",
    "    new_name = \"_\".join(gb_list + [target_column] + [agg_func_name])\n",
    "\n",
    "    gb_df_ = (\n",
    "        df\n",
    "        .set_index(\"ds\")\n",
    "        .groupby(gb_list)\n",
    "        .resample(\"ME\")[target_column]\n",
    "        .apply(agg_func)\n",
    "        .to_frame()\n",
    "        .reset_index()\n",
    "        .rename(\n",
    "            columns = {\n",
    "                target_column : new_name\n",
    "            }\n",
    "        )\n",
    "    )\n",
    "        \n",
    "    gb_df_[f\"{new_name}_lag1\"] = gb_df_.groupby(gb_list)[new_name].transform(\n",
    "        lambda series: series.shift(1)\n",
    "    )\n",
    "    \n",
    "    gb_df_[f\"{new_name}_lag2\"] = gb_df_.groupby(gb_list)[new_name].transform(\n",
    "        lambda series: series.shift(2)\n",
    "    )\n",
    "    \n",
    "    print(f\"Dropping columns that might cause target leakage {new_name}\")\n",
    "    gb_df_.drop(new_name, inplace = True, axis = 1)\n",
    "    \n",
    "    return gb_df_"
   ]
  },
  {
   "cell_type": "code",
   "execution_count": 384,
   "metadata": {},
   "outputs": [
    {
     "name": "stdout",
     "output_type": "stream",
     "text": [
      "Dropping columns that might cause target leakage item_id_y_sum\n",
      "Dropping columns that might cause target leakage item_id_revenue_sum\n"
     ]
    }
   ],
   "source": [
    "GB_LIST = [\"item_id\"]\n",
    "TARGET_COLUMN = \"y\"\n",
    "AGG_FUNC = np.sum\n",
    "AGG_FUNC_NAME = \"sum\"\n",
    "\n",
    "vars_ts_ = build_ts_vars(\n",
    "    df = data,\n",
    "    gb_list = GB_LIST,\n",
    "    target_column = TARGET_COLUMN,\n",
    "    agg_func = AGG_FUNC,\n",
    "    agg_func_name =  AGG_FUNC_NAME\n",
    "    \n",
    ")\n",
    "\n",
    "vars_revenue_ = build_ts_vars(\n",
    "    df = data,\n",
    "    gb_list = [\"item_id\"],\n",
    "    target_column = \"revenue\",\n",
    "    agg_func = AGG_FUNC,\n",
    "    agg_func_name =  AGG_FUNC_NAME\n",
    "    \n",
    ")\n",
    "\n",
    "data = pd.merge(data, vars_ts_, on = [\"ds\", \"item_id\"], how = \"left\")\n",
    "data = pd.merge(data, vars_revenue_, on = [\"ds\", \"item_id\"], how = \"left\")"
   ]
  },
  {
   "cell_type": "markdown",
   "metadata": {},
   "source": [
    "# Train, Validation, Test Split & Future dataset creation:\n",
    "\n",
    "Future_df incorporates all exogenous dynamic features and is passed before prediction."
   ]
  },
  {
   "cell_type": "code",
   "execution_count": 386,
   "metadata": {},
   "outputs": [
    {
     "name": "stdout",
     "output_type": "stream",
     "text": [
      "Our train index is [Timestamp('2013-01-31 00:00:00'), Timestamp('2013-02-28 00:00:00')] - ... - [Timestamp('2015-07-31 00:00:00'), Timestamp('2015-08-31 00:00:00')]\n",
      "\n",
      "Our validation index is [Timestamp('2015-09-30 00:00:00')]\n",
      "\n",
      "Our test/prediction index is [Timestamp('2015-10-31 00:00:00')]\n",
      "\n"
     ]
    }
   ],
   "source": [
    "train_index = sorted(list(data[\"ds\"].unique()))[:-2]\n",
    "valid_index = [sorted(list(data[\"ds\"].unique()))[-2]]\n",
    "test_index = [sorted(list(data[\"ds\"].unique()))[-1]]\n",
    "\n",
    "print(f\"Our train index is {train_index[:2]} - ... - {train_index[-2:]}\\n\")\n",
    "print(f\"Our validation index is {valid_index}\\n\")\n",
    "print(f\"Our test/prediction index is {test_index}\\n\")"
   ]
  },
  {
   "cell_type": "markdown",
   "metadata": {},
   "source": [
    "**Drop Revenue cause of leakage**"
   ]
  },
  {
   "cell_type": "code",
   "execution_count": 387,
   "metadata": {},
   "outputs": [],
   "source": [
    "data.drop('revenue', axis=1, inplace=True)"
   ]
  },
  {
   "cell_type": "code",
   "execution_count": 388,
   "metadata": {},
   "outputs": [],
   "source": [
    "train = data.loc[data['ds'].isin(train_index)]\n",
    "valid = data.loc[data['ds'].isin(valid_index)]\n",
    "test = data.loc[data['ds'].isin(test_index)]"
   ]
  },
  {
   "cell_type": "code",
   "execution_count": 389,
   "metadata": {},
   "outputs": [
    {
     "data": {
      "text/html": [
       "<div>\n",
       "<style scoped>\n",
       "    .dataframe tbody tr th:only-of-type {\n",
       "        vertical-align: middle;\n",
       "    }\n",
       "\n",
       "    .dataframe tbody tr th {\n",
       "        vertical-align: top;\n",
       "    }\n",
       "\n",
       "    .dataframe thead th {\n",
       "        text-align: right;\n",
       "    }\n",
       "</style>\n",
       "<table border=\"1\" class=\"dataframe\">\n",
       "  <thead>\n",
       "    <tr style=\"text-align: right;\">\n",
       "      <th></th>\n",
       "      <th>ds</th>\n",
       "      <th>unique_id</th>\n",
       "      <th>city_id</th>\n",
       "      <th>shop_id</th>\n",
       "      <th>item_category_id</th>\n",
       "      <th>item_id</th>\n",
       "      <th>monthly_average_price</th>\n",
       "      <th>month</th>\n",
       "      <th>year</th>\n",
       "      <th>quarter</th>\n",
       "      <th>around_Xmas</th>\n",
       "      <th>std</th>\n",
       "      <th>mean</th>\n",
       "      <th>item_id_y_sum_lag1</th>\n",
       "      <th>item_id_y_sum_lag2</th>\n",
       "      <th>item_id_revenue_sum_lag1</th>\n",
       "      <th>item_id_revenue_sum_lag2</th>\n",
       "    </tr>\n",
       "  </thead>\n",
       "  <tbody>\n",
       "    <tr>\n",
       "      <th>0</th>\n",
       "      <td>2013-01-31</td>\n",
       "      <td>12_11365</td>\n",
       "      <td>16</td>\n",
       "      <td>12</td>\n",
       "      <td>9</td>\n",
       "      <td>11365</td>\n",
       "      <td>1511.512626</td>\n",
       "      <td>1</td>\n",
       "      <td>2013</td>\n",
       "      <td>1</td>\n",
       "      <td>1</td>\n",
       "      <td>10.028658</td>\n",
       "      <td>19.823529</td>\n",
       "      <td>NaN</td>\n",
       "      <td>NaN</td>\n",
       "      <td>NaN</td>\n",
       "      <td>NaN</td>\n",
       "    </tr>\n",
       "    <tr>\n",
       "      <th>1</th>\n",
       "      <td>2013-01-31</td>\n",
       "      <td>12_11369</td>\n",
       "      <td>16</td>\n",
       "      <td>12</td>\n",
       "      <td>9</td>\n",
       "      <td>11369</td>\n",
       "      <td>572.715278</td>\n",
       "      <td>1</td>\n",
       "      <td>2013</td>\n",
       "      <td>1</td>\n",
       "      <td>1</td>\n",
       "      <td>6.075945</td>\n",
       "      <td>27.852941</td>\n",
       "      <td>NaN</td>\n",
       "      <td>NaN</td>\n",
       "      <td>NaN</td>\n",
       "      <td>NaN</td>\n",
       "    </tr>\n",
       "    <tr>\n",
       "      <th>2</th>\n",
       "      <td>2013-01-31</td>\n",
       "      <td>12_11370</td>\n",
       "      <td>16</td>\n",
       "      <td>12</td>\n",
       "      <td>9</td>\n",
       "      <td>11370</td>\n",
       "      <td>699.776786</td>\n",
       "      <td>1</td>\n",
       "      <td>2013</td>\n",
       "      <td>1</td>\n",
       "      <td>1</td>\n",
       "      <td>5.169843</td>\n",
       "      <td>29.000000</td>\n",
       "      <td>NaN</td>\n",
       "      <td>NaN</td>\n",
       "      <td>NaN</td>\n",
       "      <td>NaN</td>\n",
       "    </tr>\n",
       "    <tr>\n",
       "      <th>3</th>\n",
       "      <td>2013-01-31</td>\n",
       "      <td>12_11373</td>\n",
       "      <td>16</td>\n",
       "      <td>12</td>\n",
       "      <td>9</td>\n",
       "      <td>11373</td>\n",
       "      <td>548.900000</td>\n",
       "      <td>1</td>\n",
       "      <td>2013</td>\n",
       "      <td>1</td>\n",
       "      <td>1</td>\n",
       "      <td>9.569150</td>\n",
       "      <td>25.352941</td>\n",
       "      <td>NaN</td>\n",
       "      <td>NaN</td>\n",
       "      <td>NaN</td>\n",
       "      <td>NaN</td>\n",
       "    </tr>\n",
       "    <tr>\n",
       "      <th>4</th>\n",
       "      <td>2013-01-31</td>\n",
       "      <td>12_12231</td>\n",
       "      <td>16</td>\n",
       "      <td>12</td>\n",
       "      <td>49</td>\n",
       "      <td>12231</td>\n",
       "      <td>350.000000</td>\n",
       "      <td>1</td>\n",
       "      <td>2013</td>\n",
       "      <td>1</td>\n",
       "      <td>1</td>\n",
       "      <td>1.528109</td>\n",
       "      <td>2.294118</td>\n",
       "      <td>NaN</td>\n",
       "      <td>NaN</td>\n",
       "      <td>NaN</td>\n",
       "      <td>NaN</td>\n",
       "    </tr>\n",
       "  </tbody>\n",
       "</table>\n",
       "</div>"
      ],
      "text/plain": [
       "          ds unique_id  city_id  shop_id  item_category_id  item_id  \\\n",
       "0 2013-01-31  12_11365       16       12                 9    11365   \n",
       "1 2013-01-31  12_11369       16       12                 9    11369   \n",
       "2 2013-01-31  12_11370       16       12                 9    11370   \n",
       "3 2013-01-31  12_11373       16       12                 9    11373   \n",
       "4 2013-01-31  12_12231       16       12                49    12231   \n",
       "\n",
       "   monthly_average_price  month  year  quarter  around_Xmas        std  \\\n",
       "0            1511.512626      1  2013        1            1  10.028658   \n",
       "1             572.715278      1  2013        1            1   6.075945   \n",
       "2             699.776786      1  2013        1            1   5.169843   \n",
       "3             548.900000      1  2013        1            1   9.569150   \n",
       "4             350.000000      1  2013        1            1   1.528109   \n",
       "\n",
       "        mean  item_id_y_sum_lag1  item_id_y_sum_lag2  \\\n",
       "0  19.823529                 NaN                 NaN   \n",
       "1  27.852941                 NaN                 NaN   \n",
       "2  29.000000                 NaN                 NaN   \n",
       "3  25.352941                 NaN                 NaN   \n",
       "4   2.294118                 NaN                 NaN   \n",
       "\n",
       "   item_id_revenue_sum_lag1  item_id_revenue_sum_lag2  \n",
       "0                       NaN                       NaN  \n",
       "1                       NaN                       NaN  \n",
       "2                       NaN                       NaN  \n",
       "3                       NaN                       NaN  \n",
       "4                       NaN                       NaN  "
      ]
     },
     "execution_count": 389,
     "metadata": {},
     "output_type": "execute_result"
    }
   ],
   "source": [
    "future_df = data.drop('y', axis=1)\n",
    "future_df.head()"
   ]
  },
  {
   "cell_type": "markdown",
   "metadata": {},
   "source": [
    "# MLforecast model creation:\n",
    "\n",
    "## Models:"
   ]
  },
  {
   "cell_type": "code",
   "execution_count": 502,
   "metadata": {},
   "outputs": [],
   "source": [
    "model = XGBRegressor(random_seed = 23, n_estimators = 100,\n",
    "                        max_depth=5,       # Limit tree depth for simpler models (start with 3-5)\n",
    "                        subsample=0.8,     # Use a subset of data for each tree (0.5-0.8)\n",
    "                        reg_alpha=1,      # L1 regularization (encourages simpler models, 0-10)\n",
    "                    )"
   ]
  },
  {
   "cell_type": "markdown",
   "metadata": {},
   "source": [
    "## Target lags and transformations:"
   ]
  },
  {
   "cell_type": "code",
   "execution_count": 503,
   "metadata": {},
   "outputs": [],
   "source": [
    "sk_log1p = FunctionTransformer(func=np.log1p, inverse_func=np.expm1)\n",
    "\n",
    "fcst = MLForecast(\n",
    "    models=model,\n",
    "    freq='M',\n",
    "    #target_transforms=[GlobalSklearnTransformer(sk_log1p), Differences([1])],\n",
    "    num_threads=2\n",
    ")"
   ]
  },
  {
   "cell_type": "markdown",
   "metadata": {},
   "source": [
    "### Save transformed data:"
   ]
  },
  {
   "cell_type": "code",
   "execution_count": 504,
   "metadata": {},
   "outputs": [],
   "source": [
    "transform_data = fcst.preprocess(data, dropna=False)\n",
    "#transform_data.to_csv(r'.\\data\\ts_kaggle_data_transformed.csv', index=False)"
   ]
  },
  {
   "cell_type": "markdown",
   "metadata": {},
   "source": [
    "## Train and fit all models"
   ]
  },
  {
   "cell_type": "code",
   "execution_count": 505,
   "metadata": {},
   "outputs": [
    {
     "data": {
      "text/plain": [
       "MLForecast(models=[XGBRegressor], freq=M, lag_features=[], date_features=[], num_threads=2)"
      ]
     },
     "execution_count": 505,
     "metadata": {},
     "output_type": "execute_result"
    }
   ],
   "source": [
    "fcst.fit(train, fitted=True, id_col='unique_id', time_col='ds', \n",
    "         target_col='y', static_features=[])"
   ]
  },
  {
   "cell_type": "code",
   "execution_count": 506,
   "metadata": {},
   "outputs": [
    {
     "data": {
      "text/html": [
       "<div>\n",
       "<style scoped>\n",
       "    .dataframe tbody tr th:only-of-type {\n",
       "        vertical-align: middle;\n",
       "    }\n",
       "\n",
       "    .dataframe tbody tr th {\n",
       "        vertical-align: top;\n",
       "    }\n",
       "\n",
       "    .dataframe thead th {\n",
       "        text-align: right;\n",
       "    }\n",
       "</style>\n",
       "<table border=\"1\" class=\"dataframe\">\n",
       "  <thead>\n",
       "    <tr style=\"text-align: right;\">\n",
       "      <th></th>\n",
       "      <th>unique_id</th>\n",
       "      <th>ds</th>\n",
       "      <th>y</th>\n",
       "      <th>XGBRegressor</th>\n",
       "    </tr>\n",
       "  </thead>\n",
       "  <tbody>\n",
       "    <tr>\n",
       "      <th>0</th>\n",
       "      <td>12_11365</td>\n",
       "      <td>2013-02-28</td>\n",
       "      <td>27.0</td>\n",
       "      <td>20.077730</td>\n",
       "    </tr>\n",
       "    <tr>\n",
       "      <th>1</th>\n",
       "      <td>12_11365</td>\n",
       "      <td>2013-03-31</td>\n",
       "      <td>30.0</td>\n",
       "      <td>25.115473</td>\n",
       "    </tr>\n",
       "    <tr>\n",
       "      <th>2</th>\n",
       "      <td>12_11365</td>\n",
       "      <td>2013-04-30</td>\n",
       "      <td>27.0</td>\n",
       "      <td>18.542175</td>\n",
       "    </tr>\n",
       "    <tr>\n",
       "      <th>3</th>\n",
       "      <td>12_11365</td>\n",
       "      <td>2013-05-31</td>\n",
       "      <td>30.0</td>\n",
       "      <td>21.664284</td>\n",
       "    </tr>\n",
       "    <tr>\n",
       "      <th>4</th>\n",
       "      <td>12_11365</td>\n",
       "      <td>2013-06-30</td>\n",
       "      <td>28.0</td>\n",
       "      <td>25.646431</td>\n",
       "    </tr>\n",
       "    <tr>\n",
       "      <th>...</th>\n",
       "      <td>...</td>\n",
       "      <td>...</td>\n",
       "      <td>...</td>\n",
       "      <td>...</td>\n",
       "    </tr>\n",
       "    <tr>\n",
       "      <th>13201</th>\n",
       "      <td>7_7893</td>\n",
       "      <td>2015-04-30</td>\n",
       "      <td>2.0</td>\n",
       "      <td>3.945580</td>\n",
       "    </tr>\n",
       "    <tr>\n",
       "      <th>13202</th>\n",
       "      <td>7_7893</td>\n",
       "      <td>2015-05-31</td>\n",
       "      <td>3.0</td>\n",
       "      <td>2.347681</td>\n",
       "    </tr>\n",
       "    <tr>\n",
       "      <th>13203</th>\n",
       "      <td>7_7893</td>\n",
       "      <td>2015-06-30</td>\n",
       "      <td>1.0</td>\n",
       "      <td>4.053314</td>\n",
       "    </tr>\n",
       "    <tr>\n",
       "      <th>13204</th>\n",
       "      <td>7_7893</td>\n",
       "      <td>2015-07-31</td>\n",
       "      <td>1.0</td>\n",
       "      <td>1.264752</td>\n",
       "    </tr>\n",
       "    <tr>\n",
       "      <th>13205</th>\n",
       "      <td>7_7893</td>\n",
       "      <td>2015-08-31</td>\n",
       "      <td>1.0</td>\n",
       "      <td>1.287015</td>\n",
       "    </tr>\n",
       "  </tbody>\n",
       "</table>\n",
       "<p>13206 rows × 4 columns</p>\n",
       "</div>"
      ],
      "text/plain": [
       "      unique_id         ds     y  XGBRegressor\n",
       "0      12_11365 2013-02-28  27.0     20.077730\n",
       "1      12_11365 2013-03-31  30.0     25.115473\n",
       "2      12_11365 2013-04-30  27.0     18.542175\n",
       "3      12_11365 2013-05-31  30.0     21.664284\n",
       "4      12_11365 2013-06-30  28.0     25.646431\n",
       "...         ...        ...   ...           ...\n",
       "13201    7_7893 2015-04-30   2.0      3.945580\n",
       "13202    7_7893 2015-05-31   3.0      2.347681\n",
       "13203    7_7893 2015-06-30   1.0      4.053314\n",
       "13204    7_7893 2015-07-31   1.0      1.264752\n",
       "13205    7_7893 2015-08-31   1.0      1.287015\n",
       "\n",
       "[13206 rows x 4 columns]"
      ]
     },
     "execution_count": 506,
     "metadata": {},
     "output_type": "execute_result"
    }
   ],
   "source": [
    "fcst.forecast_fitted_values()"
   ]
  },
  {
   "cell_type": "markdown",
   "metadata": {},
   "source": [
    "# Evaluate on validation set (h=1)"
   ]
  },
  {
   "cell_type": "code",
   "execution_count": 507,
   "metadata": {},
   "outputs": [
    {
     "name": "stdout",
     "output_type": "stream",
     "text": [
      "MEAN RMSE_VALID = 3.6396462535008594\n",
      "\n",
      "Model with lowest RMSE validation is XGBRegressor with RMSE = 3.6396462535008594\n",
      "\n",
      "              RMSE_train  R2_train  RMSE_valid  R2_valid\n",
      "XGBRegressor    3.818409  0.768571    3.639646  0.756642\n"
     ]
    },
    {
     "data": {
      "image/png": "[encoded data removed]",
      "text/plain": [
       "<Figure size 1000x1500 with 1 Axes>"
      ]
     },
     "metadata": {},
     "output_type": "display_data"
    }
   ],
   "source": [
    "# Assuming you have your fcst object and valid set ready\n",
    "evaluator = MLForecast_Evaluator(fcst, valid, future_df, h=1)\n",
    "\n",
    "# Plot time series\n",
    "#evaluator.plot_time_series(n_samples=6)  # Will show 4 random time series in a 2x2 grid\n",
    "\n",
    "# Calculate and print metrics\n",
    "evaluator.calculate_metrics()\n",
    "\n",
    "# Plot metrics\n",
    "#evaluator.plot_metrics()\n",
    "\n",
    "# Plot feature importances sorted by the average importance\n",
    "evaluator.plot_feature_importances()"
   ]
  },
  {
   "cell_type": "markdown",
   "metadata": {},
   "source": [
    "# Predicting future values (test)"
   ]
  },
  {
   "cell_type": "code",
   "execution_count": 508,
   "metadata": {},
   "outputs": [
    {
     "name": "stdout",
     "output_type": "stream",
     "text": [
      "MEAN RMSE_VALID = 3.6396462535008594\n",
      "\n",
      "Model with lowest RMSE validation is XGBRegressor with RMSE = 3.6396462535008594\n",
      "\n",
      "              RMSE_train  R2_train  RMSE_valid  R2_valid\n",
      "XGBRegressor    3.818409  0.768571    3.639646  0.756642\n"
     ]
    },
    {
     "ename": "ValueError",
     "evalue": "Model 'RandomForestRegressor' not found. Available models are: XGBRegressor",
     "output_type": "error",
     "traceback": [
      "\u001b[1;31m---------------------------------------------------------------------------\u001b[0m",
      "\u001b[1;31mValueError\u001b[0m                                Traceback (most recent call last)",
      "Cell \u001b[1;32mIn[508], line 7\u001b[0m\n\u001b[0;32m      5\u001b[0m \u001b[38;5;66;03m#for model in evaluator.model_columns:\u001b[39;00m\n\u001b[0;32m      6\u001b[0m model \u001b[38;5;241m=\u001b[39m \u001b[38;5;124m'\u001b[39m\u001b[38;5;124mRandomForestRegressor\u001b[39m\u001b[38;5;124m'\u001b[39m\n\u001b[1;32m----> 7\u001b[0m \u001b[43mevaluator\u001b[49m\u001b[38;5;241;43m.\u001b[39;49m\u001b[43mpredict_save_submission\u001b[49m\u001b[43m(\u001b[49m\u001b[43mmodel\u001b[49m\u001b[43m,\u001b[49m\u001b[43m \u001b[49m\u001b[43mtest_index\u001b[49m\u001b[38;5;241;43m=\u001b[39;49m\u001b[43mtest_index\u001b[49m\u001b[43m)\u001b[49m\n",
      "Cell \u001b[1;32mIn[362], line 239\u001b[0m, in \u001b[0;36mMLForecast_Evaluator.predict_save_submission\u001b[1;34m(self, model_name, test_index)\u001b[0m\n\u001b[0;32m    236\u001b[0m \u001b[38;5;28;01mdef\u001b[39;00m \u001b[38;5;21mpredict_save_submission\u001b[39m(\u001b[38;5;28mself\u001b[39m, model_name, test_index):\n\u001b[0;32m    238\u001b[0m     \u001b[38;5;28;01mif\u001b[39;00m model_name \u001b[38;5;129;01mnot\u001b[39;00m \u001b[38;5;129;01min\u001b[39;00m \u001b[38;5;28mself\u001b[39m\u001b[38;5;241m.\u001b[39mmodel_columns:\n\u001b[1;32m--> 239\u001b[0m         \u001b[38;5;28;01mraise\u001b[39;00m \u001b[38;5;167;01mValueError\u001b[39;00m(\u001b[38;5;124mf\u001b[39m\u001b[38;5;124m\"\u001b[39m\u001b[38;5;124mModel \u001b[39m\u001b[38;5;124m'\u001b[39m\u001b[38;5;132;01m{\u001b[39;00mmodel_name\u001b[38;5;132;01m}\u001b[39;00m\u001b[38;5;124m'\u001b[39m\u001b[38;5;124m not found. Available models are: \u001b[39m\u001b[38;5;132;01m{\u001b[39;00m\u001b[38;5;124m'\u001b[39m\u001b[38;5;124m, \u001b[39m\u001b[38;5;124m'\u001b[39m\u001b[38;5;241m.\u001b[39mjoin(\u001b[38;5;28mself\u001b[39m\u001b[38;5;241m.\u001b[39mmodel_columns)\u001b[38;5;132;01m}\u001b[39;00m\u001b[38;5;124m\"\u001b[39m)\n\u001b[0;32m    241\u001b[0m     test_preds \u001b[38;5;241m=\u001b[39m \u001b[38;5;28mself\u001b[39m\u001b[38;5;241m.\u001b[39mpredictions[\u001b[38;5;28mself\u001b[39m\u001b[38;5;241m.\u001b[39mpredictions[\u001b[38;5;124m'\u001b[39m\u001b[38;5;124mds\u001b[39m\u001b[38;5;124m'\u001b[39m]\u001b[38;5;241m.\u001b[39misin(test_index)] \u001b[38;5;66;03m#Test index was defined in split\u001b[39;00m\n\u001b[0;32m    242\u001b[0m     test_preds \u001b[38;5;241m=\u001b[39m test_preds[[\u001b[38;5;124m'\u001b[39m\u001b[38;5;124munique_id\u001b[39m\u001b[38;5;124m'\u001b[39m, model_name]]\n",
      "\u001b[1;31mValueError\u001b[0m: Model 'RandomForestRegressor' not found. Available models are: XGBRegressor"
     ]
    }
   ],
   "source": [
    "# Predict h=2 and save second prediction as submission\n",
    "evaluator = MLForecast_Evaluator(fcst, valid, future_df, h=2)\n",
    "evaluator.calculate_metrics()\n",
    "\n",
    "#for model in evaluator.model_columns:\n",
    "model = 'RandomForestRegressor'\n",
    "#evaluator.predict_save_submission(model, test_index=test_index)"
   ]
  },
  {
   "cell_type": "markdown",
   "metadata": {},
   "source": [
    "# Predicting future values (test) with train+valid fit"
   ]
  },
  {
   "cell_type": "code",
   "execution_count": null,
   "metadata": {},
   "outputs": [],
   "source": [
    "test_index = [sorted(list(data[\"ds\"].unique()))[-1]]\n",
    "train = data.loc[~data['ds'].isin(test_index)] #train is now all data except the last month\n",
    "valid = data.loc[data['ds'].isin(valid_index)] #valid RMSE will be unrealistic but I need it for evaluator\n",
    "test = data.loc[data['ds'].isin(test_index)]\n",
    "\n",
    "all_features = list(train.columns)\n",
    "dynamic_features = list(set(all_features) - set(static_features) - set('y'))\n",
    "\n",
    "future_df = data[dynamic_features]"
   ]
  },
  {
   "cell_type": "code",
   "execution_count": null,
   "metadata": {},
   "outputs": [
    {
     "data": {
      "text/plain": [
       "MLForecast(models=[RandomForestRegressor], freq=M, lag_features=['lag1', 'lag2', 'lag3', 'lag6', 'rolling_mean_lag1_window_size2', 'rolling_mean_lag1_window_size3', 'rolling_mean_lag1_window_size6', 'diff_lag1_lag1', 'diff_lag1_lag3', 'diff_lag1_lag6', 'expanding_mean_lag1', 'exponentially_weighted_mean_lag1_alpha0.2', 'rolling_mean_lag2_window_size3', 'rolling_mean_lag2_window_size6', 'expanding_mean_lag2', 'rolling_mean_lag3_window_size3', 'rolling_mean_lag3_window_size6', 'expanding_mean_lag3', 'rolling_mean_lag6_window_size3', 'expanding_mean_lag6', 'exponentially_weighted_mean_lag6_alpha0.2'], date_features=[], num_threads=6)"
      ]
     },
     "execution_count": 2167,
     "metadata": {},
     "output_type": "execute_result"
    }
   ],
   "source": [
    "fcst.fit(train, fitted=True, id_col='unique_id', time_col='ds', \n",
    "         target_col='y', static_features=static_features)"
   ]
  },
  {
   "cell_type": "code",
   "execution_count": null,
   "metadata": {},
   "outputs": [
    {
     "name": "stdout",
     "output_type": "stream",
     "text": [
      "Warning: mean_rmse_valid has not been calculated yet. Using 'unknown' in filename.\n",
      "Submission file 'submissions\\submission_RandomForestRegressor_mean_valid_RMSE_unknown_2024-07-10.csv' has been created successfully.\n"
     ]
    },
    {
     "data": {
      "text/html": [
       "<div>\n",
       "<style scoped>\n",
       "    .dataframe tbody tr th:only-of-type {\n",
       "        vertical-align: middle;\n",
       "    }\n",
       "\n",
       "    .dataframe tbody tr th {\n",
       "        vertical-align: top;\n",
       "    }\n",
       "\n",
       "    .dataframe thead th {\n",
       "        text-align: right;\n",
       "    }\n",
       "</style>\n",
       "<table border=\"1\" class=\"dataframe\">\n",
       "  <thead>\n",
       "    <tr style=\"text-align: right;\">\n",
       "      <th></th>\n",
       "      <th>unique_id</th>\n",
       "      <th>monthly_sales</th>\n",
       "    </tr>\n",
       "  </thead>\n",
       "  <tbody>\n",
       "    <tr>\n",
       "      <th>0</th>\n",
       "      <td>12_11365</td>\n",
       "      <td>14.261923</td>\n",
       "    </tr>\n",
       "    <tr>\n",
       "      <th>1</th>\n",
       "      <td>12_11369</td>\n",
       "      <td>20.898990</td>\n",
       "    </tr>\n",
       "    <tr>\n",
       "      <th>2</th>\n",
       "      <td>12_11370</td>\n",
       "      <td>20.998151</td>\n",
       "    </tr>\n",
       "    <tr>\n",
       "      <th>3</th>\n",
       "      <td>12_11373</td>\n",
       "      <td>19.152462</td>\n",
       "    </tr>\n",
       "    <tr>\n",
       "      <th>4</th>\n",
       "      <td>12_12231</td>\n",
       "      <td>1.234744</td>\n",
       "    </tr>\n",
       "    <tr>\n",
       "      <th>...</th>\n",
       "      <td>...</td>\n",
       "      <td>...</td>\n",
       "    </tr>\n",
       "    <tr>\n",
       "      <th>421</th>\n",
       "      <td>7_5822</td>\n",
       "      <td>4.416912</td>\n",
       "    </tr>\n",
       "    <tr>\n",
       "      <th>422</th>\n",
       "      <td>7_6185</td>\n",
       "      <td>1.418024</td>\n",
       "    </tr>\n",
       "    <tr>\n",
       "      <th>423</th>\n",
       "      <td>7_6497</td>\n",
       "      <td>2.083720</td>\n",
       "    </tr>\n",
       "    <tr>\n",
       "      <th>424</th>\n",
       "      <td>7_7856</td>\n",
       "      <td>1.806759</td>\n",
       "    </tr>\n",
       "    <tr>\n",
       "      <th>425</th>\n",
       "      <td>7_7893</td>\n",
       "      <td>2.182861</td>\n",
       "    </tr>\n",
       "  </tbody>\n",
       "</table>\n",
       "<p>426 rows × 2 columns</p>\n",
       "</div>"
      ],
      "text/plain": [
       "    unique_id  monthly_sales\n",
       "0    12_11365      14.261923\n",
       "1    12_11369      20.898990\n",
       "2    12_11370      20.998151\n",
       "3    12_11373      19.152462\n",
       "4    12_12231       1.234744\n",
       "..        ...            ...\n",
       "421    7_5822       4.416912\n",
       "422    7_6185       1.418024\n",
       "423    7_6497       2.083720\n",
       "424    7_7856       1.806759\n",
       "425    7_7893       2.182861\n",
       "\n",
       "[426 rows x 2 columns]"
      ]
     },
     "execution_count": 2169,
     "metadata": {},
     "output_type": "execute_result"
    }
   ],
   "source": [
    "# Predict h=2 and save second prediction as submission\n",
    "evaluator = MLForecast_Evaluator(fcst, valid, future_df, h=1)\n",
    "#evaluator.calculate_metrics()\n",
    "\n",
    "#for model in evaluator.model_columns:\n",
    "model = 'RandomForestRegressor'\n",
    "evaluator.predict_save_submission(model, test_index=test_index)"
   ]
  }
 ],
 "metadata": {
  "kernelspec": {
   "display_name": "Python 3",
   "language": "python",
   "name": "python3"
  },
  "language_info": {
   "codemirror_mode": {
    "name": "ipython",
    "version": 3
   },
   "file_extension": ".py",
   "mimetype": "text/x-python",
   "name": "python",
   "nbconvert_exporter": "python",
   "pygments_lexer": "ipython3",
   "version": "3.12.3"
  }
 },
 "nbformat": 4,
 "nbformat_minor": 2
}
